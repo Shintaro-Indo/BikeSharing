{
 "cells": [
  {
   "cell_type": "markdown",
   "metadata": {},
   "source": [
    "# ユーザーの会員プランごとの傾向に着目した分析\n",
    "例：会員プランごとの利用時間, グループ利用などを分析して，会員プランの妥当性などを検討する\n"
   ]
  },
  {
   "cell_type": "code",
   "execution_count": null,
   "metadata": {
    "collapsed": true
   },
   "outputs": [],
   "source": [
    "# table.ipynbをモジュールとして読み込む\n",
    "import sys\n",
    "import notebookutil as nbu\n",
    "sys.meta_path.append(nbu.NotebookFinder())\n",
    "import table\n",
    "import numpy as np\n",
    "import pandas as pd\n",
    "import matplotlib.pyplot as plt\n",
    "% matplotlib inline"
   ]
  },
  {
   "cell_type": "markdown",
   "metadata": {},
   "source": [
    "## 会員プランごとの利用回数"
   ]
  },
  {
   "cell_type": "code",
   "execution_count": null,
   "metadata": {
    "collapsed": true,
    "scrolled": false
   },
   "outputs": [],
   "source": [
    "# 分析するデータの指定\n",
    "s_or_l= \"l\" # s：station, l：landmark, others: all data\n",
    "search_list = {\"s\":table.station.station_id.values, \"l\":table.station.landmark.unique()}[s_or_l]\n",
    "\n",
    "for element in search_list:\n",
    "    if s_or_l == \"s\":\n",
    "        station_id = element \n",
    "        landmark = \"\" # landmark =\"\"のとき全てのlandmark\n",
    "    elif s_or_l == \"l\":\n",
    "        station_id = 0 # id=0のとき全てのstation\n",
    "        landmark = element #['', 'San Jose', 'San Francisco', 'Palo Alto', 'Mountain View', 'Redwood City']\n",
    "    else:\n",
    "        station_id = 0\n",
    "        landmark = \"\"   \n",
    "\n",
    "    sub_title = \"\" # グラフのtitleに使用\n",
    "\n",
    "    if station_id != 0: # station_idの指定がある場合\n",
    "        ctype_count = table.features[(table.features[\"Start ID\"] == station_id) | (table.features[\"End ID\"] == station_id)].copy()\n",
    "        sub_title = f\"station:{station_id}\" \n",
    "    elif  landmark != '' and station_id == 0: # landmarkの指定がある場合(station_id != 0のとき無効)\n",
    "        ctype_count = table.features[(table.features[\"Start Landmark\"] == landmark) | (table.features[\"End Landmark\"] == landmark)].copy()\n",
    "        sub_title = f\"landmark:{landmark}\" \n",
    "    else:\n",
    "        ctype_count = table.features.copy()\n",
    "        sub_title = \"All data\" \n",
    "\n",
    "    ctype_count = ctype_count.groupby(\"CType\").size()\n",
    "    ctype_count.plot(kind=\"bar\",  figsize=(8, 5), title=f\"CustomerType-Count ({sub_title})\", color=[[\"orange\", \"dodgerblue\"]])\n",
    "    plt.legend([\"Annual\",\"24hour or 3day\"])\n",
    "    plt.ylabel(\"Count\")\n",
    "    plt.xlabel(\"Customer type\")\n",
    "    plt.xticks([0 ,1], [\"Annual\",\"24hour or 3day\"], rotation=0)\n",
    "    plt.show()"
   ]
  },
  {
   "cell_type": "markdown",
   "metadata": {},
   "source": [
    "##  会員プランごとの1日あたりの利用回数の推移"
   ]
  },
  {
   "cell_type": "code",
   "execution_count": null,
   "metadata": {
    "collapsed": true,
    "scrolled": false
   },
   "outputs": [],
   "source": [
    "# 分析するデータの指定\n",
    "s_or_l= \"l\" # s：station, l：landmark, others: all data\n",
    "search_list = {\"s\":table.station.station_id.values, \"l\":table.station.landmark.unique()}[s_or_l]\n",
    "\n",
    "for element in search_list:\n",
    "    if s_or_l == \"s\":\n",
    "        station_id = element \n",
    "        landmark = \"\" # landmark =\"\"のとき全てのlandmark\n",
    "    elif s_or_l == \"l\":\n",
    "        station_id = 0 # id=0のとき全てのstation\n",
    "        landmark = element #['', 'San Jose', 'San Francisco', 'Palo Alto', 'Mountain View', 'Redwood City']\n",
    "    else:\n",
    "        station_id = 0\n",
    "        landmark = \"\"   \n",
    "        \n",
    "    sub_title = \"\" # グラフのtitleに使用\n",
    "\n",
    "    if station_id != 0: # station_idの指定がある場合\n",
    "        ctype_count = table.features[(table.features[\"Start ID\"] == station_id) | (table.features[\"End ID\"] == station_id)].copy()\n",
    "        sub_title = f\"station:{station_id}\" \n",
    "    elif  landmark != '' and station_id == 0: # landmarkの指定がある場合(station_id != 0のとき無効)\n",
    "        ctype_count = table.features[(table.features[\"Start Landmark\"] == landmark) | (table.features[\"End Landmark\"] == landmark)].copy()\n",
    "        sub_title = f\"landmark:{landmark}\" \n",
    "    else:\n",
    "        ctype_count = table.features.copy()\n",
    "        sub_title = \"All data\" \n",
    "\n",
    "    ctype_count = ctype_count.groupby([\"Year Month\", \"CType\"]).size().to_frame(\"Count\") / 30 # 1日あたり\n",
    "    ctype_count.reset_index(level=[0,1], inplace=True)\n",
    "    ctype_count = ctype_count.pivot(index = \"Year Month\", columns=\"CType\", values=\"Count\")\n",
    "    ctype_count.fillna(value=0, inplace=True)\n",
    "    ctype_count.plot(kind=\"bar\", figsize=(15, 5), title=f\"CType Count ({sub_title})\", color=[\"orange\", \"dodgerblue\"])\n",
    "    plt.legend([\"Annual\",\"24hour or 3day\"])\n",
    "    plt.ylabel(\"Count\")"
   ]
  },
  {
   "cell_type": "markdown",
   "metadata": {},
   "source": [
    "## landmarkごとのannual ratio"
   ]
  },
  {
   "cell_type": "code",
   "execution_count": null,
   "metadata": {
    "collapsed": true
   },
   "outputs": [],
   "source": [
    "landmarks = table.station.landmark.unique()\n",
    "ctype= table.features[[\"Start Landmark\", \"End Landmark\", \"CType\"]]\n",
    "ctypes = []\n",
    "for landmark in landmarks:\n",
    "    ctype_sub = pd.DataFrame(ctype.loc[(ctype[\"Start Landmark\"] == landmark) | (ctype[\"End Landmark\"] == landmark), \"CType\"])\n",
    "    annual_ratio = ctype_sub.groupby(\"CType\").size()[0] / len(ctype_sub)\n",
    "    ctypes.append([landmark, annual_ratio, len(ctype_sub)])\n",
    "    \n",
    "    \n",
    "ctype = pd.DataFrame(ctypes).set_index(0)\n",
    "ctype = ctype.rename(columns = {1:\"Annual ratio\", 2:\"Trip count\"})\n",
    "ctype.index.names = ['Landmark']\n",
    "\n",
    "ctype = ctype.sort_values(\"Annual ratio\", ascending=False)\n",
    "ctype.append(pd.DataFrame({\"Annual ratio\": table.features.CType.mean(), \"Trip count\":ctype[\"Trip count\"].sum()}, index = [\"Total\"]))\n",
    "ctype.head()"
   ]
  },
  {
   "cell_type": "markdown",
   "metadata": {},
   "source": [
    "## Ctypeの割合の推移"
   ]
  },
  {
   "cell_type": "code",
   "execution_count": null,
   "metadata": {
    "collapsed": true,
    "scrolled": false
   },
   "outputs": [],
   "source": [
    "# 分析するデータの指定\n",
    "s_or_l= \"l\" # s：station, l：landmark, others: all data\n",
    "search_list = {\"s\":table.station.station_id.values, \"l\":table.station.landmark.unique()}[s_or_l]\n",
    "\n",
    "for element in search_list:\n",
    "    if s_or_l == \"s\":\n",
    "        station_id = element \n",
    "        landmark = \"\" # landmark =\"\"のとき全てのlandmark\n",
    "    elif s_or_l == \"l\":\n",
    "        station_id = 0 # id=0のとき全てのstation\n",
    "        landmark = element #['', 'San Jose', 'San Francisco', 'Palo Alto', 'Mountain View', 'Redwood City']\n",
    "    else:\n",
    "        station_id = 0\n",
    "        landmark = \"\"   \n",
    "        \n",
    "    sub_title = \"\" # グラフのtitleに使用\n",
    "\n",
    "    if station_id != 0: # station_idの指定がある場合\n",
    "        ctype_rate = table.features[table.features[\"Start ID\"] == station_id].copy()\n",
    "        sub_title = f\"station:{station_id}\" \n",
    "    elif  landmark != '' and station_id == 0: # landmarkの指定がある場合(station_id != 0のとき無効)\n",
    "        ctype_rate = table.features[table.features[\"Start Landmark\"] == landmark].copy()\n",
    "        sub_title = f\"landmark:{landmark}\" \n",
    "    else:\n",
    "        ctype_rate = table.features.copy()\n",
    "        sub_title = \"All data\" \n",
    "\n",
    "    ctype_rate = ctype_rate.groupby([\"Year Month\",\"CType\"]).size().to_frame(\"Count\")\n",
    "    ctype_rate = ctype_rate.fillna(value=0)\n",
    "    ctype_rate.reset_index(level=[0, 1], inplace=True)\n",
    "    ctype_rate = ctype_rate.pivot(index = \"Year Month\", columns=\"CType\", values=\"Count\")\n",
    "    ctype_rate[\"Total\"] = ctype_rate[0] +ctype_rate[1]\n",
    "    ctype_rate[0] = ctype_rate[0] / ctype_rate[\"Total\"]\n",
    "    ctype_rate[1] = ctype_rate[1] / ctype_rate[\"Total\"]\n",
    "    ctype_rate.drop(\"Total\", axis=1, inplace=True)\n",
    "    ctype_rate.plot(figsize=(15, 5),  title=f\"Customer Type Ratio ({sub_title})\", color=[\"orange\", \"dodgerblue\"], linewidth=5)\n",
    "    plt.show()"
   ]
  }
 ],
 "metadata": {
  "kernelspec": {
   "display_name": "Python 3",
   "language": "python",
   "name": "python3"
  },
  "language_info": {
   "codemirror_mode": {
    "name": "ipython",
    "version": 3
   },
   "file_extension": ".py",
   "mimetype": "text/x-python",
   "name": "python",
   "nbconvert_exporter": "python",
   "pygments_lexer": "ipython3",
   "version": "3.6.1"
  }
 },
 "nbformat": 4,
 "nbformat_minor": 2
}
